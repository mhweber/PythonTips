{
 "cells": [
  {
   "cell_type": "markdown",
   "id": "0fe8b9d9-0409-4b32-9a22-5271526e5f8d",
   "metadata": {},
   "source": [
    "## Python Sets\n",
    "\n",
    "### What are they?\n",
    "Sets are one of the Python's built in types that have these characteristics:\n",
    "1. **Unordered**\n",
    "2. **Unique** - duplicate elements not allowed\n",
    "3. Sets themselves are **mutable** but set elements are **Immutable** and **Unchangeable** - a set itself can be changed, but not the elements in the set\n",
    "4. **Unindexed** - can't access with `[i]` as with lists\n",
    "5. **Iterable** - we can loop over set items\n"
   ]
  },
  {
   "cell_type": "markdown",
   "id": "8c898cdd-cc9b-4870-90ee-3ba1e8c4febd",
   "metadata": {},
   "source": [
    "We can construct by putting items inside curly braces (like dictionaries) separated by commas or by using the `set` operator:"
   ]
  },
  {
   "cell_type": "code",
   "execution_count": 32,
   "id": "7917e5ec-2df1-448f-8053-4e1e386a17a2",
   "metadata": {},
   "outputs": [
    {
     "name": "stdout",
     "output_type": "stream",
     "text": [
      "{'cherry', 'apple', 'banana'}\n",
      "{'cherry', 'apple', 'banana'}\n"
     ]
    },
    {
     "data": {
      "text/plain": [
       "False"
      ]
     },
     "execution_count": 32,
     "metadata": {},
     "output_type": "execute_result"
    }
   ],
   "source": [
    "set1 = {\"apple\", \"banana\", \"cherry\", \"apple\"}\n",
    "# or\n",
    "set2 = set([\"apple\", \"banana\", \"cherry\", \"apple\"])\n",
    "print(set1) \n",
    "print(set2)\n",
    "set1==set"
   ]
  },
  {
   "cell_type": "markdown",
   "id": "5a143542-9898-4ff3-bfca-8554da5eb6ed",
   "metadata": {},
   "source": [
    "Notice in our results that:\n",
    "- duplicates were removed (sets are **unique**)\n",
    "- Items were re-ordered (sets are **unordered**)\n",
    "\n",
    "What about different data types in sets?"
   ]
  },
  {
   "cell_type": "code",
   "execution_count": 7,
   "id": "870e75e2-4a66-4d32-a298-3379c07342c9",
   "metadata": {},
   "outputs": [
    {
     "name": "stdout",
     "output_type": "stream",
     "text": [
      "{1, 'apple', 4, 'cherry', 'banana'}\n",
      "{(1, 2, 3, 4), 1, 'apple', 4, 'cherry', 'banana'}\n"
     ]
    },
    {
     "ename": "TypeError",
     "evalue": "unhashable type: 'list'",
     "output_type": "error",
     "traceback": [
      "\u001b[1;31m---------------------------------------------------------------------------\u001b[0m",
      "\u001b[1;31mTypeError\u001b[0m                                 Traceback (most recent call last)",
      "Cell \u001b[1;32mIn[7], line 5\u001b[0m\n\u001b[0;32m      3\u001b[0m set4 \u001b[38;5;241m=\u001b[39m {\u001b[38;5;124m\"\u001b[39m\u001b[38;5;124mapple\u001b[39m\u001b[38;5;124m\"\u001b[39m,\u001b[38;5;241m1\u001b[39m,\u001b[38;5;124m\"\u001b[39m\u001b[38;5;124mbanana\u001b[39m\u001b[38;5;124m\"\u001b[39m,\u001b[38;5;241m4\u001b[39m,\u001b[38;5;124m\"\u001b[39m\u001b[38;5;124mcherry\u001b[39m\u001b[38;5;124m\"\u001b[39m,(\u001b[38;5;241m1\u001b[39m,\u001b[38;5;241m2\u001b[39m,\u001b[38;5;241m3\u001b[39m,\u001b[38;5;241m4\u001b[39m)}\n\u001b[0;32m      4\u001b[0m \u001b[38;5;28mprint\u001b[39m(set4)\n\u001b[1;32m----> 5\u001b[0m set5 \u001b[38;5;241m=\u001b[39m {\u001b[38;5;124m\"\u001b[39m\u001b[38;5;124mapple\u001b[39m\u001b[38;5;124m\"\u001b[39m,\u001b[38;5;241m1\u001b[39m,\u001b[38;5;124m\"\u001b[39m\u001b[38;5;124mbanana\u001b[39m\u001b[38;5;124m\"\u001b[39m,\u001b[38;5;241m4\u001b[39m,\u001b[38;5;124m\"\u001b[39m\u001b[38;5;124mcherry\u001b[39m\u001b[38;5;124m\"\u001b[39m,[\u001b[38;5;241m1\u001b[39m,\u001b[38;5;241m2\u001b[39m,\u001b[38;5;241m3\u001b[39m,\u001b[38;5;241m4\u001b[39m]}\n\u001b[0;32m      6\u001b[0m \u001b[38;5;28mprint\u001b[39m(set5)\n",
      "\u001b[1;31mTypeError\u001b[0m: unhashable type: 'list'"
     ]
    }
   ],
   "source": [
    "set3 = {\"apple\",1,\"banana\",4,\"cherry\"}\n",
    "print(set3)\n",
    "set4 = {\"apple\",1,\"banana\",4,\"cherry\",(1,2,3,4)}\n",
    "print(set4)\n",
    "set5 = {\"apple\",1,\"banana\",4,\"cherry\",[1,2,3,4]}\n",
    "print(set5)"
   ]
  },
  {
   "cell_type": "markdown",
   "id": "d8a7653b-7d0d-4881-993d-85c3ed63ac4f",
   "metadata": {},
   "source": [
    "We can see above that:\n",
    "- we can have different *allowed* data types mixed together in sets\n",
    "    + *immutable types* - string, numbers, tuples\n",
    "- we can't put *mutable* items in a set (set elements are **immutable**) - doing this returns the *unhashable type* error for set4 where we try to put a list in a set"
   ]
  },
  {
   "cell_type": "markdown",
   "id": "3b74344d-284a-454c-b38e-f5053987fa6c",
   "metadata": {},
   "source": [
    "### Accessing `set` items"
   ]
  },
  {
   "cell_type": "markdown",
   "id": "88a86985-68c6-4976-82fc-af171affdd9a",
   "metadata": {},
   "source": [
    "Let's access the first item in our set-"
   ]
  },
  {
   "cell_type": "code",
   "execution_count": 3,
   "id": "6556e2cf-b5d8-412c-bcfb-2dbd0cf3eab2",
   "metadata": {},
   "outputs": [
    {
     "ename": "TypeError",
     "evalue": "'set' object is not subscriptable",
     "output_type": "error",
     "traceback": [
      "\u001b[1;31m---------------------------------------------------------------------------\u001b[0m",
      "\u001b[1;31mTypeError\u001b[0m                                 Traceback (most recent call last)",
      "Cell \u001b[1;32mIn[3], line 1\u001b[0m\n\u001b[1;32m----> 1\u001b[0m \u001b[43mset1\u001b[49m\u001b[43m[\u001b[49m\u001b[38;5;241;43m1\u001b[39;49m\u001b[43m]\u001b[49m\n",
      "\u001b[1;31mTypeError\u001b[0m: 'set' object is not subscriptable"
     ]
    }
   ],
   "source": [
    "set1[1]"
   ]
  },
  {
   "cell_type": "markdown",
   "id": "7a28f8d8-7ad7-4f3b-bab5-d90e58a87e21",
   "metadata": {},
   "source": [
    "Remember, sets are **unindexed** so we get an error trying to index.\n",
    "\n",
    "But they are **iterable**:"
   ]
  },
  {
   "cell_type": "code",
   "execution_count": 9,
   "id": "e5c08d3e-ba1a-469d-bd0b-8ab097d58af6",
   "metadata": {},
   "outputs": [
    {
     "name": "stdout",
     "output_type": "stream",
     "text": [
      "cherry\n",
      "apple\n",
      "banana\n"
     ]
    }
   ],
   "source": [
    "for x in set1:\n",
    "  print(x)"
   ]
  },
  {
   "cell_type": "markdown",
   "id": "24511551-3148-4058-8884-8d2bd0fc9c29",
   "metadata": {},
   "source": [
    "### Modifying Sets\n",
    "We can modify sets in by adding a single *immutable* item using `add()` or several immutable items using `update()`"
   ]
  },
  {
   "cell_type": "code",
   "execution_count": 33,
   "id": "b76e26d3-2fc7-46d6-ae3e-3c623dbef116",
   "metadata": {},
   "outputs": [
    {
     "name": "stdout",
     "output_type": "stream",
     "text": [
      "{'cherry', 'apple', 'banana'}\n",
      "{'cherry', 'apple', 'pear', 'banana'}\n",
      "{'melon', 'apple', 6, 7, 8, 'cherry', 'banana', 'pear'}\n"
     ]
    }
   ],
   "source": [
    "newset=set1\n",
    "print(newset)\n",
    "newset.add('pear')\n",
    "print(newset)\n",
    "newset.update([6],[7],[8],['melon'])\n",
    "print(newset)"
   ]
  },
  {
   "cell_type": "markdown",
   "id": "bc8a3a5e-88b1-4bcd-8b6f-0e9a03db79db",
   "metadata": {},
   "source": [
    "We can get rid of items using:\n",
    "- `discard()` – removes a particular item or does nothing if that item is absent in the set\n",
    "- `remove()` – removes a particular item or raises KeyError if that item is absent in the set\n",
    "- `pop()` – removes and returns a random item or raises KeyError if the set is empty\n",
    "- `clear()` – clears the set (removes all the items)ms)"
   ]
  },
  {
   "cell_type": "code",
   "execution_count": 28,
   "id": "5ec2c911-6347-4a6a-a244-a47512a2fd4a",
   "metadata": {},
   "outputs": [
    {
     "name": "stdout",
     "output_type": "stream",
     "text": [
      "{'melon', 'apple', 6, 7, 8, 'cherry', 'banana', 'pear'}\n",
      "{'melon', 'apple', 6, 7, 8, 'banana', 'pear'}\n",
      "{'melon', 'apple', 6, 7, 8, 'banana', 'pear'}\n",
      "melon\n",
      "set()\n"
     ]
    }
   ],
   "source": [
    "print(newset)\n",
    "newset.remove('cherry')\n",
    "print(newset)\n",
    "newset.discard('charry') # already removed but does nothing if item is absent, unlike remove\n",
    "print(newset)\n",
    "new = newset.pop()\n",
    "print(new)"
   ]
  },
  {
   "cell_type": "markdown",
   "id": "23f53f84-82ba-48b2-9623-8ec380d62aae",
   "metadata": {},
   "source": [
    "### Operating on sets\n",
    "We can use a number of Python built-in operators on sets:"
   ]
  },
  {
   "cell_type": "code",
   "execution_count": 38,
   "id": "a089deaf-14b6-4289-8938-50e0218bbaf7",
   "metadata": {},
   "outputs": [
    {
     "name": "stdout",
     "output_type": "stream",
     "text": [
      "8\n"
     ]
    }
   ],
   "source": [
    "print(len(newset))"
   ]
  },
  {
   "cell_type": "code",
   "execution_count": 40,
   "id": "e0c780b4-bbbe-46f2-ba29-dcb5bd27e5ac",
   "metadata": {},
   "outputs": [
    {
     "data": {
      "text/plain": [
       "True"
      ]
     },
     "execution_count": 40,
     "metadata": {},
     "output_type": "execute_result"
    }
   ],
   "source": [
    "'pear' in newset"
   ]
  },
  {
   "cell_type": "code",
   "execution_count": 41,
   "id": "41d00389-40f0-49c0-928f-7e8cb9210865",
   "metadata": {},
   "outputs": [
    {
     "data": {
      "text/plain": [
       "False"
      ]
     },
     "execution_count": 41,
     "metadata": {},
     "output_type": "execute_result"
    }
   ],
   "source": [
    "'cherry' not in newset"
   ]
  },
  {
   "cell_type": "code",
   "execution_count": 45,
   "id": "9b323544-1604-4b36-bcd9-96348297b73b",
   "metadata": {},
   "outputs": [
    {
     "name": "stdout",
     "output_type": "stream",
     "text": [
      "2\n",
      "6\n",
      "12\n",
      "[2, 4, 6]\n"
     ]
    }
   ],
   "source": [
    "numericset = {2,4,6}\n",
    "print(min(numericset))\n",
    "print(max(numericset))\n",
    "print(sum(numericset))\n",
    "print(sorted(numericset))"
   ]
  },
  {
   "cell_type": "code",
   "execution_count": 44,
   "id": "ba4e4dc7-2357-4b90-ab8a-0a96adc2ab28",
   "metadata": {},
   "outputs": [
    {
     "name": "stdout",
     "output_type": "stream",
     "text": [
      "me\n",
      "you\n",
      "['me', 'them', 'you']\n"
     ]
    }
   ],
   "source": [
    "charset = {'me','you','them'}\n",
    "print(min(charset))\n",
    "print(max(charset))\n",
    "print(sorted(charset))"
   ]
  },
  {
   "cell_type": "markdown",
   "id": "4b9db642-baf1-4497-8306-fe71b5a6a2a4",
   "metadata": {},
   "source": [
    "#### Union\n",
    "The real power of sets is doing real `set` operations such as unions, intersections and differences which we can do using either set operators or set methods - here we show both with union operator and method :"
   ]
  },
  {
   "cell_type": "code",
   "execution_count": 46,
   "id": "d395bee0-3dd8-4e53-bdb0-2376a56cad9c",
   "metadata": {},
   "outputs": [
    {
     "name": "stdout",
     "output_type": "stream",
     "text": [
      "{'mellon', 'apple', 'peach', 'cherry', 'pear'}\n",
      "{'cherry', 'apple', 'peach', 'mellon', 'pear'}\n",
      "{'mellon', 'apple', 'peach', 'cherry', 'pear'}\n",
      "{'cherry', 'apple', 'peach', 'mellon', 'pear'}\n"
     ]
    }
   ],
   "source": [
    "a={'apple', 'pear', 'cherry'}\n",
    "b={'peach', 'mellon', 'pear'}\n",
    "print(a | b)\n",
    "print(b | a)\n",
    "print(a.union(b))\n",
    "print(b.union(a))"
   ]
  },
  {
   "cell_type": "markdown",
   "id": "525a3c05-869c-4c57-8200-67fd6a8b5ac9",
   "metadata": {},
   "source": [
    "#### Intersection \n",
    "using numbers"
   ]
  },
  {
   "cell_type": "code",
   "execution_count": 48,
   "id": "d0b65de7-924c-4ee7-b39d-a33ac080886e",
   "metadata": {},
   "outputs": [
    {
     "name": "stdout",
     "output_type": "stream",
     "text": [
      "{4, 5}\n",
      "{4, 5}\n",
      "{4, 5}\n",
      "{4, 5}\n"
     ]
    }
   ],
   "source": [
    "a = {1, 2, 3, 4, 5}\n",
    "b = {4, 5, 6, 7}\n",
    "print(a & b)\n",
    "print(b & a)\n",
    "print(a.intersection(b))\n",
    "print(b.intersection(a))"
   ]
  },
  {
   "cell_type": "markdown",
   "id": "f53738ef-a089-418e-91a9-8f64152cd46f",
   "metadata": {},
   "source": [
    "### Difference\n",
    "returns a new set containing all the items from the first (left) set that are absent in the second (right) set - order of operation makes a difference!"
   ]
  },
  {
   "cell_type": "code",
   "execution_count": 49,
   "id": "3cb98769-34f3-4182-b9e4-1dabac80c8ac",
   "metadata": {},
   "outputs": [
    {
     "name": "stdout",
     "output_type": "stream",
     "text": [
      "{1, 2, 3}\n",
      "{6, 7}\n",
      "{1, 2, 3}\n",
      "{6, 7}\n"
     ]
    }
   ],
   "source": [
    "print(a - b)\n",
    "print(b - a)\n",
    "print(a.difference(b))\n",
    "print(b.difference(a))"
   ]
  },
  {
   "cell_type": "markdown",
   "id": "654fe10c-5aa1-49a4-868a-82a01789c78b",
   "metadata": {},
   "source": [
    "#### Symmetric Difference\n",
    "returns items present in either first or second set but not both - think of this as the difference between the set union and the set intersection"
   ]
  },
  {
   "cell_type": "code",
   "execution_count": 50,
   "id": "1c2755d9-8ab5-47ec-a8e4-f1a54bcb35f1",
   "metadata": {},
   "outputs": [
    {
     "name": "stdout",
     "output_type": "stream",
     "text": [
      "{1, 2, 3, 6, 7}\n",
      "{1, 2, 3, 6, 7}\n",
      "{1, 2, 3, 6, 7}\n",
      "{1, 2, 3, 6, 7}\n"
     ]
    }
   ],
   "source": [
    "print(a ^ b)\n",
    "print(b ^ a)\n",
    "print(a.symmetric_difference(b))\n",
    "print(b.symmetric_difference(a))"
   ]
  },
  {
   "cell_type": "markdown",
   "id": "9e7aa4e0-167a-4571-a0b4-edf588ff15e1",
   "metadata": {},
   "source": [
    "### Application\n",
    "There are a number of powerful and often underused applications of sets - I often use to get the intersection of columns in different `pandas` data.frames (series). I also use to get list intersections. "
   ]
  },
  {
   "cell_type": "code",
   "execution_count": 51,
   "id": "f452470b-4d96-4817-bef6-3b71b3e36371",
   "metadata": {},
   "outputs": [],
   "source": [
    "df1 = {'A': [1, 2, 3, 4], \n",
    "         'B': ['cherry', 'apple', 'melon', 'peach'],\n",
    "         'C': ['Bill', 'Susan', 'Tom', 'Laurie']}  \n",
    "df2 = {'A': [1, 2, 3, 4, 5, 6 ], \n",
    "         'B': ['pear', 'cherry', 'peach', 'pear'], \n",
    "         'C':['Tom', 'Laurie', 'Jim', 'Ken']} "
   ]
  },
  {
   "cell_type": "code",
   "execution_count": 52,
   "id": "ead6c765-4f42-4ddc-a21b-8bb9b77aa726",
   "metadata": {},
   "outputs": [
    {
     "name": "stdout",
     "output_type": "stream",
     "text": [
      "{1, 2, 3, 4, 5, 6}\n"
     ]
    }
   ],
   "source": [
    "# Union of A in df1 and df2:\n",
    "print(set(df1['A']).union(set(df2['A'])))\n",
    "#intersect_B\n",
    "#symmetric_difference_C\n"
   ]
  },
  {
   "cell_type": "code",
   "execution_count": 53,
   "id": "940d2897-7695-4854-8db7-7d071416d8ff",
   "metadata": {},
   "outputs": [
    {
     "name": "stdout",
     "output_type": "stream",
     "text": [
      "{'cherry', 'peach'}\n"
     ]
    }
   ],
   "source": [
    "# Intersect of B in df1 and df2:\n",
    "print(set(df1['B']).intersection(set(df2['B'])))"
   ]
  },
  {
   "cell_type": "code",
   "execution_count": 54,
   "id": "9b0ec74c-168a-48ad-88de-f3599121b9cf",
   "metadata": {},
   "outputs": [
    {
     "name": "stdout",
     "output_type": "stream",
     "text": [
      "{'melon', 'apple', 'pear'}\n"
     ]
    }
   ],
   "source": [
    "# Symmetric difference of C in df1 and df2:\n",
    "print(set(df1['B']) ^ (set(df2['B'])))"
   ]
  },
  {
   "cell_type": "markdown",
   "id": "7298a835-b5d2-4b53-8f67-ca8d68310d5e",
   "metadata": {},
   "source": [
    "## Python Collections\n",
    "The `collections` modeule was originally created with only one data structure, `deque` which is a double-ended queue for for fast efficient `pop` and `append` operations on either end of a sequence.  Other usefule types have been added such as `OrderedDict`, `defaultdict`, and a couple others.\n",
    "\n",
    "We'll just glance at a couple usefule examples of these types in `collections` - I use `defaultdict`, `OrderedDict`, and `deque` for a number of steps in Python code to build the [StreamCat](https://github.com/USEPA/StreamCat) codebase to work efficiently with [NHDPlus](https://www.epa.gov/waterdata/nhdplus-national-hydrography-dataset-plus) flow (from-to) tables.  These tables simply contain information on what flows to what and you can make use of `collections` structures to quickly and efficiently mine this from-to table to generate watersheds for every stream reach.\n"
   ]
  },
  {
   "cell_type": "markdown",
   "id": "b8ab6195-65f9-407c-8f24-d94003c701d4",
   "metadata": {},
   "source": [
    "### OrderedDict\n",
    "Sometimes we need to maintain the oder of dictionary keys based on the order they are created (dictionaries are unordered) - `OrderedDict` was added to `collections` to handle this:"
   ]
  },
  {
   "cell_type": "code",
   "execution_count": 56,
   "id": "6f6fb9d0-9caf-4239-a5b6-f10c9b25e7fe",
   "metadata": {},
   "outputs": [
    {
     "name": "stdout",
     "output_type": "stream",
     "text": [
      "first set -> 0-5\n",
      "second set -> 6-10\n",
      "third set -> 11-15\n",
      "fourth set -> 16+\n"
     ]
    }
   ],
   "source": [
    "from collections import OrderedDict\n",
    "\n",
    "results = OrderedDict()\n",
    "\n",
    "results[\"first set\"] = \"0-5\"\n",
    "results[\"second set\"] = \"6-10\"\n",
    "results[\"third set\"] = \"11-15\"\n",
    "results[\"fourth set\"] = \"16+\"\n",
    "\n",
    "for group, range in results.items():\n",
    "    print(group, \"->\", range)\n"
   ]
  },
  {
   "cell_type": "markdown",
   "id": "33ab304c-552b-4793-b534-03fd0b62a1cd",
   "metadata": {},
   "source": [
    "### `defaultdict` for handling missing keys\n",
    "Very handy for setting rules when you encounter missing keys in dictionaries"
   ]
  },
  {
   "cell_type": "code",
   "execution_count": 64,
   "id": "7cec29da-c28c-4147-9d74-01924d23218a",
   "metadata": {},
   "outputs": [
    {
     "data": {
      "text/plain": [
       "defaultdict(set,\n",
       "            {'first set': '0-5',\n",
       "             'second set': '6-10',\n",
       "             'third set': '11-15',\n",
       "             'fourth set': '16+'})"
      ]
     },
     "execution_count": 64,
     "metadata": {},
     "output_type": "execute_result"
    }
   ],
   "source": [
    "from collections import defaultdict\n",
    "d = defaultdict(set,results)\n",
    "d"
   ]
  },
  {
   "cell_type": "code",
   "execution_count": 66,
   "id": "d85d61ff-2ce7-4546-9b0a-447669538cc3",
   "metadata": {},
   "outputs": [
    {
     "data": {
      "text/plain": [
       "defaultdict(set,\n",
       "            {'first set': '0-5',\n",
       "             'second set': '6-10',\n",
       "             'third set': '11-15',\n",
       "             'fourth set': '16+',\n",
       "             'last_set': '16+'})"
      ]
     },
     "execution_count": 66,
     "metadata": {},
     "output_type": "execute_result"
    }
   ],
   "source": [
    "if 'last set' in d:\n",
    "# Do something with 'key'...\n",
    "    print(d['last set'])\n",
    "else:\n",
    " d['last_set'] = d['fourth set']\n",
    "d"
   ]
  },
  {
   "cell_type": "markdown",
   "id": "ac5ac8cb-fc0f-41c1-bd03-32ea7f5c9b56",
   "metadata": {},
   "source": [
    "### *deque*\n",
    "A deque is a double-ended queue in which elements can be both inserted and deleted from either the left or the right end of the queue. Operations on a deque include:\n",
    "\r",
    "- \n",
    "append(item): Add an item to the right end\n",
    "- appendleft(item): Add an item to the left end.\n",
    "- insert(index, value): Add an element with the specified value at the given index.\n",
    "- extend(list): This function is used to insert multiple values at the right end. It takes a list of values as an argument.\n",
    "- extendleft(list): This function is similar to extend(), but it reverses the list of values passed as the argument and then appends that list to the left end of the deque.\n",
    "- pop(): Remove an element from the right end.\n",
    "- popleft(): Remove an element from the left end.\n",
    "- remove(value): Remove the first occurrence of the mentioned value.\n",
    "- count(value): Return the total number of occurrences of the given value.\n",
    "- index(e, start, end): Search the given element from start to finish​ and return the index of the first occurrence.\n",
    "- rotate(n): Rotate the deque n number of times. A positive value rotates it to the right, while a negative value rotates it to the left.\n",
    "- reverse(): Reverse the order of the deque..erse the order of the deque."
   ]
  },
  {
   "cell_type": "markdown",
   "id": "ccd03c23-e483-4347-a33c-95cef25f28c1",
   "metadata": {},
   "source": [
    "Examples from [here](https://www.educative.io/answers/how-to-use-a-deque-in-python) and good place to read more is [here](https://realpython.com/python-collections-module/#building-efficient-queues-and-stacks-deque)"
   ]
  },
  {
   "cell_type": "code",
   "execution_count": 67,
   "id": "6ff5f25c-3d1e-4fdd-b00c-15c2d670b3ad",
   "metadata": {},
   "outputs": [
    {
     "name": "stdout",
     "output_type": "stream",
     "text": [
      "deque([4, 5, 6])\n",
      "Append 7 to the right:  [4, 5, 6, 7]\n",
      "Append 3 to the left:  [3, 4, 5, 6, 7]\n",
      "Append 8, 9 and 10 to the right:  [3, 4, 5, 6, 7, 8, 9, 10]\n",
      "Append 2 and 1 to the left:  [2, 1, 3, 4, 5, 6, 7, 8, 9, 10]\n",
      "Insert -1 at index 5:  [2, 1, 3, 4, 5, -1, 6, 7, 8, 9, 10]\n",
      "Remove element from the right:  [2, 1, 3, 4, 5, -1, 6, 7, 8, 9]\n",
      "Remove element from the left:  [1, 3, 4, 5, -1, 6, 7, 8, 9]\n",
      "Remove -1:  [1, 3, 4, 5, 6, 7, 8, 9]\n",
      "Count the number of times 5 occurs:  1\n",
      "Search index of number 7 between index 4 and 6:  5\n",
      "Rotate the deque 3 times to the right:  [7, 8, 9, 1, 3, 4, 5, 6]\n",
      "Reverse the deque:  [6, 5, 4, 3, 1, 9, 8, 7]\n"
     ]
    }
   ],
   "source": [
    "# Import collections module:\n",
    "import collections\n",
    "\n",
    "# Initialize deque:\n",
    "dq = collections.deque([4, 5, 6])\n",
    "\n",
    "print(dq)\n",
    "\n",
    "# Append to the right:\n",
    "dq.append(7)\n",
    "print(\"Append 7 to the right: \", list(dq))\n",
    "\n",
    "# Append to the left:\n",
    "dq.appendleft(3)\n",
    "print(\"Append 3 to the left: \", list(dq))\n",
    "\n",
    "# Append multiple values to right:\n",
    "dq.extend([8, 9, 10])\n",
    "print(\"Append 8, 9 and 10 to the right: \", list(dq))\n",
    "\n",
    "# Append multiple values to left:\n",
    "dq.extendleft([1, 2])\n",
    "print(\"Append 2 and 1 to the left: \", list(dq))\n",
    "\n",
    "# Insert -1 at index 5\n",
    "dq.insert(5, -1)\n",
    "print(\"Insert -1 at index 5: \", list(dq))\n",
    "\n",
    "# Pop element from the right end:\n",
    "dq.pop()\n",
    "print(\"Remove element from the right: \", list(dq))\n",
    "\n",
    "# Pop element from the left end:\n",
    "dq.popleft()\n",
    "print(\"Remove element from the left: \", list(dq))\n",
    "\n",
    "# Remove -1:\n",
    "dq.remove(-1)\n",
    "print(\"Remove -1: \", list(dq))\n",
    "\n",
    "# Count the number of times 5 occurs:\n",
    "i = dq.count(5)\n",
    "print(\"Count the number of times 5 occurs: \", i)\n",
    "\n",
    "# Return index of '7' if found between index 4 and 6:\n",
    "i = dq.index(7, 4, 6)\n",
    "print(\"Search index of number 7 between index 4 and 6: \", i)\n",
    "\n",
    "# Rotate the deque three times to the right:\n",
    "dq.rotate(3)\n",
    "print(\"Rotate the deque 3 times to the right: \", list(dq))\n",
    "\n",
    "# Reverse the whole deque:\n",
    "dq.reverse()\n",
    "print(\"Reverse the deque: \", list(dq))"
   ]
  },
  {
   "cell_type": "code",
   "execution_count": null,
   "id": "c5e41b73-f8b1-4462-99ec-c7592d15a576",
   "metadata": {},
   "outputs": [],
   "source": []
  }
 ],
 "metadata": {
  "kernelspec": {
   "display_name": "Python 3 (ipykernel)",
   "language": "python",
   "name": "python3"
  },
  "language_info": {
   "codemirror_mode": {
    "name": "ipython",
    "version": 3
   },
   "file_extension": ".py",
   "mimetype": "text/x-python",
   "name": "python",
   "nbconvert_exporter": "python",
   "pygments_lexer": "ipython3",
   "version": "3.10.12"
  }
 },
 "nbformat": 4,
 "nbformat_minor": 5
}
